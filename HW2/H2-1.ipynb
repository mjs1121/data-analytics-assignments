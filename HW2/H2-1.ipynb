{
 "cells": [
  {
   "cell_type": "code",
   "execution_count": 5,
   "id": "b2733805",
   "metadata": {},
   "outputs": [],
   "source": [
    "######## Question 1 part 1\n",
    "import numpy as np\n",
    "\n",
    "np.random.seed(89)\n",
    "r_arr1 = np.random.rand(5,5)\n",
    "\n",
    "rows, columns = r_arr1.shape\n",
    "row_indent = 0\n",
    "diag_sum = 0\n",
    "diag_sum2 = 0\n",
    "\n",
    "# Option 1 for Doing both Diagonals\n",
    "for x in range(rows):\n",
    "    diag_sum += r_arr1[row_indent, x]\n",
    "    row_indent += 1\n",
    "    \n",
    "row_indent -= 1\n",
    "    \n",
    "for y in range(rows):\n",
    "    diag_sum += r_arr1[row_indent, y]\n",
    "    row_indent -= 1\n",
    "    \n",
    "if (rows % 2) == 1:\n",
    "    mid_row = np.floor(rows/2).astype(int)\n",
    "    mid_column = np.floor(columns/2).astype(int)\n",
    "    diag_sum -= r_arr1[mid_column, mid_row]\n",
    "\n",
    "    \n",
    "# Option 2 for just the left-to-right, top-to-down diagonal\n",
    "d_arr1 = np.diag(r_arr1)\n",
    "for d_i in range(len(d_arr1)):\n",
    "    diag_sum2 += d_arr1[d_i]\n",
    "    \n",
    "######## Question 1 part 2\n",
    "t_arr1 = np.transpose(r_arr1)\n",
    "\n",
    "f_arr1 = np.ndarray.flatten(r_arr1)\n",
    "\n",
    "s_arr1 = np.array_split(r_arr1, 5)\n",
    "\n"
   ]
  },
  {
   "cell_type": "code",
   "execution_count": 6,
   "id": "7bce5e94",
   "metadata": {},
   "outputs": [
    {
     "name": "stdout",
     "output_type": "stream",
     "text": [
      "[[0.49969432 0.25593713 0.25810063 0.09692171 0.56418511]\n",
      " [0.01599007 0.15259523 0.48024773 0.09987276 0.41696389]\n",
      " [0.91365081 0.35071951 0.11460437 0.71260839 0.10188615]\n",
      " [0.40570044 0.66548144 0.13835937 0.83043309 0.12319969]\n",
      " [0.58779155 0.06309849 0.49710274 0.92839462 0.80603084]]\n",
      "Method 1:  4.3206887196012165\n",
      "Method 2:  2.4033578517438836\n"
     ]
    }
   ],
   "source": [
    "print(r_arr1)\n",
    "print(\"Method 1: \", diag_sum)\n",
    "print(\"Method 2: \", diag_sum2)"
   ]
  },
  {
   "cell_type": "code",
   "execution_count": 32,
   "id": "3d6f50c1",
   "metadata": {},
   "outputs": [
    {
     "name": "stdout",
     "output_type": "stream",
     "text": [
      "Transpose: \n",
      "[[0.49969432 0.01599007 0.91365081 0.40570044 0.58779155]\n",
      " [0.25593713 0.15259523 0.35071951 0.66548144 0.06309849]\n",
      " [0.25810063 0.48024773 0.11460437 0.13835937 0.49710274]\n",
      " [0.09692171 0.09987276 0.71260839 0.83043309 0.92839462]\n",
      " [0.56418511 0.41696389 0.10188615 0.12319969 0.80603084]]\n",
      "Flattened: \n",
      "[0.49969432 0.25593713 0.25810063 0.09692171 0.56418511 0.01599007\n",
      " 0.15259523 0.48024773 0.09987276 0.41696389 0.91365081 0.35071951\n",
      " 0.11460437 0.71260839 0.10188615 0.40570044 0.66548144 0.13835937\n",
      " 0.83043309 0.12319969 0.58779155 0.06309849 0.49710274 0.92839462\n",
      " 0.80603084]\n",
      "Split: \n",
      "[array([[0.49969432, 0.25593713, 0.25810063, 0.09692171, 0.56418511]]), array([[0.01599007, 0.15259523, 0.48024773, 0.09987276, 0.41696389]]), array([[0.91365081, 0.35071951, 0.11460437, 0.71260839, 0.10188615]]), array([[0.40570044, 0.66548144, 0.13835937, 0.83043309, 0.12319969]]), array([[0.58779155, 0.06309849, 0.49710274, 0.92839462, 0.80603084]])]\n"
     ]
    }
   ],
   "source": [
    "print(\"Transpose: \")\n",
    "print(t_arr1)\n",
    "print(\"Flattened: \")\n",
    "print(f_arr1)\n",
    "print(\"Split: \")\n",
    "print(s_arr1)"
   ]
  },
  {
   "cell_type": "code",
   "execution_count": 34,
   "id": "0dfd8af3",
   "metadata": {},
   "outputs": [],
   "source": [
    "######## Question 2 part 1\n",
    "import numpy as np\n",
    "\n",
    "np.random.seed(100)\n",
    "x = np.random.randint(0, 1000, size = (10, 10))\n",
    "\n",
    "x_evencount = 0\n",
    "x_rows, x_columns = x.shape\n",
    "\n",
    "for row in range(x_rows):\n",
    "    for column in range(x_columns):\n",
    "        if (x[row, column] % 2) == 0:\n",
    "            x_evencount += 1\n",
    "#            print(x[row, column]) \n",
    "\n",
    "######## Question 2 part 2\n",
    "\n",
    "norm_arr = np.random.normal(1, 0.5, (8, 9))\n",
    "norm_rows, norm_columns = norm_arr.shape\n",
    "norm_count = 0\n",
    "norm_sum = 0\n",
    "\n",
    "for i in range(norm_rows):\n",
    "    for j in range(norm_columns):\n",
    "        if ((i+j)%5 == 0):\n",
    "            norm_count += 1\n",
    "            norm_sum += norm_arr[i, j]\n",
    "\n",
    "\n",
    "norm_multof5_mean = norm_sum / norm_count\n"
   ]
  },
  {
   "cell_type": "code",
   "execution_count": 36,
   "id": "ec0c9bbe",
   "metadata": {},
   "outputs": [
    {
     "data": {
      "text/plain": [
       "50"
      ]
     },
     "execution_count": 36,
     "metadata": {},
     "output_type": "execute_result"
    }
   ],
   "source": [
    "x_evencount"
   ]
  },
  {
   "cell_type": "code",
   "execution_count": 37,
   "id": "22f30085",
   "metadata": {},
   "outputs": [
    {
     "data": {
      "text/plain": [
       "1.1510333789549485"
      ]
     },
     "execution_count": 37,
     "metadata": {},
     "output_type": "execute_result"
    }
   ],
   "source": [
    "norm_multof5_mean"
   ]
  },
  {
   "cell_type": "code",
   "execution_count": null,
   "id": "53a89918",
   "metadata": {},
   "outputs": [],
   "source": []
  }
 ],
 "metadata": {
  "kernelspec": {
   "display_name": "Python 3 (ipykernel)",
   "language": "python",
   "name": "python3"
  },
  "language_info": {
   "codemirror_mode": {
    "name": "ipython",
    "version": 3
   },
   "file_extension": ".py",
   "mimetype": "text/x-python",
   "name": "python",
   "nbconvert_exporter": "python",
   "pygments_lexer": "ipython3",
   "version": "3.9.10"
  }
 },
 "nbformat": 4,
 "nbformat_minor": 5
}
