{
 "cells": [
  {
   "cell_type": "code",
   "execution_count": 10,
   "id": "aa01f539",
   "metadata": {},
   "outputs": [
    {
     "name": "stdout",
     "output_type": "stream",
     "text": [
      "Unique Values =                 [14 15 22 34 55 57 64 85 87 90]\n",
      "Counts for Each Unique Value =  [11 12 33 43 31 89 66 24 80 10]\n",
      "Value that appears most often =  57\n"
     ]
    }
   ],
   "source": [
    "######## Question 1\n",
    "import numpy as np\n",
    "from collections import defaultdict\n",
    "\n",
    "L1 = []\n",
    "\n",
    "np.random.seed(56)\n",
    "\n",
    "for i in np.random.randint(0, 100, 10):\n",
    "\n",
    "    L1.extend([i] * np.random.randint(0, 100, 1)[0])\n",
    "\n",
    "np.random.shuffle(L1)\n",
    "\n",
    "# 1 & 2 - Get Unique Values, Count\n",
    "L1_values, L1_counts = np.unique(L1, return_counts=True)\n",
    "print(\"Unique Values =                \", L1_values)\n",
    "print(\"Counts for Each Unique Value = \", L1_counts)\n",
    "\n",
    "# 3 - Make a Dictionary\n",
    "L1_dict = {L1_values[i] : L1_counts[i] for i, _ in enumerate(L1_counts)}\n",
    "\n",
    "# 4 - Return Value that Occurs Most Frequently\n",
    "most_freq = max(L1_dict, key=lambda key: L1_dict[key])\n",
    "print(\"Value that appears most often = \", most_freq)\n"
   ]
  },
  {
   "cell_type": "code",
   "execution_count": 13,
   "id": "8163e56b",
   "metadata": {},
   "outputs": [
    {
     "name": "stdout",
     "output_type": "stream",
     "text": [
      "Sum of Evens         =  9418\n",
      "Sum of Numbers > 500 =  12466\n",
      "Mean of L2 =  534.2666666666667\n"
     ]
    }
   ],
   "source": [
    "######## Question 2\n",
    "L2 = [879, 394, 235, 580, 628, 81, 206, 238, 927, 853, 622, 603, 110, 143, 824, 324, 343, 506, 634, 325, 258, 900, 960, 286, 449, 890, 921, 170, 888, 851]\n",
    "\n",
    "# 1 & 3 - Calculate the Sum of Evens and Sum of Numbers > 500\n",
    "L2_SumEven = 0\n",
    "L2_Sum500 = 0\n",
    "i = 0\n",
    "while i < len(L2):\n",
    "    if (L2[i] % 2) == 0:\n",
    "#        print(L2[i])\n",
    "        L2_SumEven += L2[i]\n",
    "    \n",
    "    if L2[i] > 500:\n",
    "#        print(L2[i])\n",
    "        L2_Sum500 += L2[i]\n",
    "    \n",
    "    i += 1\n",
    "    \n",
    "print(\"Sum of Evens         = \", L2_SumEven)\n",
    "print(\"Sum of Numbers > 500 = \", L2_Sum500)\n",
    "\n",
    "# 2 - Define a Mean Function\n",
    "def arr_mean(arr):\n",
    "    sum_arr = 0\n",
    "    i = 0\n",
    "    len_arr = len(arr)\n",
    "    while i < len_arr:\n",
    "        sum_arr += arr[i]\n",
    "        i += 1\n",
    "        \n",
    "    return sum_arr/len_arr\n",
    "        \n",
    "print(\"Mean of L2 = \", arr_mean(L2))"
   ]
  },
  {
   "cell_type": "code",
   "execution_count": 14,
   "id": "7f46c9af",
   "metadata": {},
   "outputs": [],
   "source": [
    "######## Question 3\n",
    "\n",
    "# 1 - Create function for pow(x, n)\n",
    "def pow(x, n):\n",
    "    if n == 0:\n",
    "        return 1\n",
    "    \n",
    "    i = 1\n",
    "    x_res = x\n",
    "    while i < abs(n):\n",
    "        x_res = x*x_res\n",
    "        i += 1\n",
    "        \n",
    "    if n <= -1:\n",
    "        x_res = 1/x_res\n",
    "        \n",
    "    return x_res\n",
    "    "
   ]
  },
  {
   "cell_type": "code",
   "execution_count": 3,
   "id": "0c318777",
   "metadata": {},
   "outputs": [
    {
     "name": "stdout",
     "output_type": "stream",
     "text": [
      "1024\n",
      "0.037037037037037035\n"
     ]
    }
   ],
   "source": [
    "# 2 Calculate 2^10 and 3^-3\n",
    "print(pow(2, 10))\n",
    "print(pow(3, -3))"
   ]
  },
  {
   "cell_type": "code",
   "execution_count": null,
   "id": "b7147529",
   "metadata": {},
   "outputs": [],
   "source": []
  }
 ],
 "metadata": {
  "kernelspec": {
   "display_name": "Python 3 (ipykernel)",
   "language": "python",
   "name": "python3"
  },
  "language_info": {
   "codemirror_mode": {
    "name": "ipython",
    "version": 3
   },
   "file_extension": ".py",
   "mimetype": "text/x-python",
   "name": "python",
   "nbconvert_exporter": "python",
   "pygments_lexer": "ipython3",
   "version": "3.9.10"
  }
 },
 "nbformat": 4,
 "nbformat_minor": 5
}
