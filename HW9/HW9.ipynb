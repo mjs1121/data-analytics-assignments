{
 "cells": [
  {
   "cell_type": "code",
   "execution_count": 50,
   "id": "e63b8e58",
   "metadata": {},
   "outputs": [
    {
     "data": {
      "text/html": [
       "<div>\n",
       "<style scoped>\n",
       "    .dataframe tbody tr th:only-of-type {\n",
       "        vertical-align: middle;\n",
       "    }\n",
       "\n",
       "    .dataframe tbody tr th {\n",
       "        vertical-align: top;\n",
       "    }\n",
       "\n",
       "    .dataframe thead th {\n",
       "        text-align: right;\n",
       "    }\n",
       "</style>\n",
       "<table border=\"1\" class=\"dataframe\">\n",
       "  <thead>\n",
       "    <tr style=\"text-align: right;\">\n",
       "      <th></th>\n",
       "      <th>subject#</th>\n",
       "      <th>age</th>\n",
       "      <th>sex</th>\n",
       "      <th>test_time</th>\n",
       "      <th>motor_UPDRS</th>\n",
       "      <th>total_UPDRS</th>\n",
       "      <th>Jitter(%)</th>\n",
       "      <th>Jitter(Abs)</th>\n",
       "      <th>Jitter:RAP</th>\n",
       "      <th>Jitter:PPQ5</th>\n",
       "      <th>...</th>\n",
       "      <th>Shimmer(dB)</th>\n",
       "      <th>Shimmer:APQ3</th>\n",
       "      <th>Shimmer:APQ5</th>\n",
       "      <th>Shimmer:APQ11</th>\n",
       "      <th>Shimmer:DDA</th>\n",
       "      <th>NHR</th>\n",
       "      <th>HNR</th>\n",
       "      <th>RPDE</th>\n",
       "      <th>DFA</th>\n",
       "      <th>PPE</th>\n",
       "    </tr>\n",
       "  </thead>\n",
       "  <tbody>\n",
       "    <tr>\n",
       "      <th>count</th>\n",
       "      <td>5875.000000</td>\n",
       "      <td>5875.000000</td>\n",
       "      <td>5875.000000</td>\n",
       "      <td>5875.000000</td>\n",
       "      <td>5875.000000</td>\n",
       "      <td>5875.000000</td>\n",
       "      <td>5875.000000</td>\n",
       "      <td>5875.000000</td>\n",
       "      <td>5875.000000</td>\n",
       "      <td>5875.000000</td>\n",
       "      <td>...</td>\n",
       "      <td>5875.000000</td>\n",
       "      <td>5875.000000</td>\n",
       "      <td>5875.000000</td>\n",
       "      <td>5875.000000</td>\n",
       "      <td>5875.000000</td>\n",
       "      <td>5875.000000</td>\n",
       "      <td>5875.000000</td>\n",
       "      <td>5875.000000</td>\n",
       "      <td>5875.000000</td>\n",
       "      <td>5875.000000</td>\n",
       "    </tr>\n",
       "    <tr>\n",
       "      <th>mean</th>\n",
       "      <td>21.494128</td>\n",
       "      <td>64.804936</td>\n",
       "      <td>0.317787</td>\n",
       "      <td>92.863722</td>\n",
       "      <td>21.296229</td>\n",
       "      <td>29.018942</td>\n",
       "      <td>0.006154</td>\n",
       "      <td>0.000044</td>\n",
       "      <td>0.002987</td>\n",
       "      <td>0.003277</td>\n",
       "      <td>...</td>\n",
       "      <td>0.310960</td>\n",
       "      <td>0.017156</td>\n",
       "      <td>0.020144</td>\n",
       "      <td>0.027481</td>\n",
       "      <td>0.051467</td>\n",
       "      <td>0.032120</td>\n",
       "      <td>21.679495</td>\n",
       "      <td>0.541473</td>\n",
       "      <td>0.653240</td>\n",
       "      <td>0.219589</td>\n",
       "    </tr>\n",
       "    <tr>\n",
       "      <th>std</th>\n",
       "      <td>12.372279</td>\n",
       "      <td>8.821524</td>\n",
       "      <td>0.465656</td>\n",
       "      <td>53.445602</td>\n",
       "      <td>8.129282</td>\n",
       "      <td>10.700283</td>\n",
       "      <td>0.005624</td>\n",
       "      <td>0.000036</td>\n",
       "      <td>0.003124</td>\n",
       "      <td>0.003732</td>\n",
       "      <td>...</td>\n",
       "      <td>0.230254</td>\n",
       "      <td>0.013237</td>\n",
       "      <td>0.016664</td>\n",
       "      <td>0.019986</td>\n",
       "      <td>0.039711</td>\n",
       "      <td>0.059692</td>\n",
       "      <td>4.291096</td>\n",
       "      <td>0.100986</td>\n",
       "      <td>0.070902</td>\n",
       "      <td>0.091498</td>\n",
       "    </tr>\n",
       "    <tr>\n",
       "      <th>min</th>\n",
       "      <td>1.000000</td>\n",
       "      <td>36.000000</td>\n",
       "      <td>0.000000</td>\n",
       "      <td>-4.262500</td>\n",
       "      <td>5.037700</td>\n",
       "      <td>7.000000</td>\n",
       "      <td>0.000830</td>\n",
       "      <td>0.000002</td>\n",
       "      <td>0.000330</td>\n",
       "      <td>0.000430</td>\n",
       "      <td>...</td>\n",
       "      <td>0.026000</td>\n",
       "      <td>0.001610</td>\n",
       "      <td>0.001940</td>\n",
       "      <td>0.002490</td>\n",
       "      <td>0.004840</td>\n",
       "      <td>0.000286</td>\n",
       "      <td>1.659000</td>\n",
       "      <td>0.151020</td>\n",
       "      <td>0.514040</td>\n",
       "      <td>0.021983</td>\n",
       "    </tr>\n",
       "    <tr>\n",
       "      <th>25%</th>\n",
       "      <td>10.000000</td>\n",
       "      <td>58.000000</td>\n",
       "      <td>0.000000</td>\n",
       "      <td>46.847500</td>\n",
       "      <td>15.000000</td>\n",
       "      <td>21.371000</td>\n",
       "      <td>0.003580</td>\n",
       "      <td>0.000022</td>\n",
       "      <td>0.001580</td>\n",
       "      <td>0.001820</td>\n",
       "      <td>...</td>\n",
       "      <td>0.175000</td>\n",
       "      <td>0.009280</td>\n",
       "      <td>0.010790</td>\n",
       "      <td>0.015665</td>\n",
       "      <td>0.027830</td>\n",
       "      <td>0.010955</td>\n",
       "      <td>19.406000</td>\n",
       "      <td>0.469785</td>\n",
       "      <td>0.596180</td>\n",
       "      <td>0.156340</td>\n",
       "    </tr>\n",
       "    <tr>\n",
       "      <th>50%</th>\n",
       "      <td>22.000000</td>\n",
       "      <td>65.000000</td>\n",
       "      <td>0.000000</td>\n",
       "      <td>91.523000</td>\n",
       "      <td>20.871000</td>\n",
       "      <td>27.576000</td>\n",
       "      <td>0.004900</td>\n",
       "      <td>0.000035</td>\n",
       "      <td>0.002250</td>\n",
       "      <td>0.002490</td>\n",
       "      <td>...</td>\n",
       "      <td>0.253000</td>\n",
       "      <td>0.013700</td>\n",
       "      <td>0.015940</td>\n",
       "      <td>0.022710</td>\n",
       "      <td>0.041110</td>\n",
       "      <td>0.018448</td>\n",
       "      <td>21.920000</td>\n",
       "      <td>0.542250</td>\n",
       "      <td>0.643600</td>\n",
       "      <td>0.205500</td>\n",
       "    </tr>\n",
       "    <tr>\n",
       "      <th>75%</th>\n",
       "      <td>33.000000</td>\n",
       "      <td>72.000000</td>\n",
       "      <td>1.000000</td>\n",
       "      <td>138.445000</td>\n",
       "      <td>27.596500</td>\n",
       "      <td>36.399000</td>\n",
       "      <td>0.006800</td>\n",
       "      <td>0.000053</td>\n",
       "      <td>0.003290</td>\n",
       "      <td>0.003460</td>\n",
       "      <td>...</td>\n",
       "      <td>0.365000</td>\n",
       "      <td>0.020575</td>\n",
       "      <td>0.023755</td>\n",
       "      <td>0.032715</td>\n",
       "      <td>0.061735</td>\n",
       "      <td>0.031463</td>\n",
       "      <td>24.444000</td>\n",
       "      <td>0.614045</td>\n",
       "      <td>0.711335</td>\n",
       "      <td>0.264490</td>\n",
       "    </tr>\n",
       "    <tr>\n",
       "      <th>max</th>\n",
       "      <td>42.000000</td>\n",
       "      <td>85.000000</td>\n",
       "      <td>1.000000</td>\n",
       "      <td>215.490000</td>\n",
       "      <td>39.511000</td>\n",
       "      <td>54.992000</td>\n",
       "      <td>0.099990</td>\n",
       "      <td>0.000446</td>\n",
       "      <td>0.057540</td>\n",
       "      <td>0.069560</td>\n",
       "      <td>...</td>\n",
       "      <td>2.107000</td>\n",
       "      <td>0.162670</td>\n",
       "      <td>0.167020</td>\n",
       "      <td>0.275460</td>\n",
       "      <td>0.488020</td>\n",
       "      <td>0.748260</td>\n",
       "      <td>37.875000</td>\n",
       "      <td>0.966080</td>\n",
       "      <td>0.865600</td>\n",
       "      <td>0.731730</td>\n",
       "    </tr>\n",
       "  </tbody>\n",
       "</table>\n",
       "<p>8 rows × 22 columns</p>\n",
       "</div>"
      ],
      "text/plain": [
       "          subject#          age          sex    test_time  motor_UPDRS   \n",
       "count  5875.000000  5875.000000  5875.000000  5875.000000  5875.000000  \\\n",
       "mean     21.494128    64.804936     0.317787    92.863722    21.296229   \n",
       "std      12.372279     8.821524     0.465656    53.445602     8.129282   \n",
       "min       1.000000    36.000000     0.000000    -4.262500     5.037700   \n",
       "25%      10.000000    58.000000     0.000000    46.847500    15.000000   \n",
       "50%      22.000000    65.000000     0.000000    91.523000    20.871000   \n",
       "75%      33.000000    72.000000     1.000000   138.445000    27.596500   \n",
       "max      42.000000    85.000000     1.000000   215.490000    39.511000   \n",
       "\n",
       "       total_UPDRS    Jitter(%)  Jitter(Abs)   Jitter:RAP  Jitter:PPQ5  ...   \n",
       "count  5875.000000  5875.000000  5875.000000  5875.000000  5875.000000  ...  \\\n",
       "mean     29.018942     0.006154     0.000044     0.002987     0.003277  ...   \n",
       "std      10.700283     0.005624     0.000036     0.003124     0.003732  ...   \n",
       "min       7.000000     0.000830     0.000002     0.000330     0.000430  ...   \n",
       "25%      21.371000     0.003580     0.000022     0.001580     0.001820  ...   \n",
       "50%      27.576000     0.004900     0.000035     0.002250     0.002490  ...   \n",
       "75%      36.399000     0.006800     0.000053     0.003290     0.003460  ...   \n",
       "max      54.992000     0.099990     0.000446     0.057540     0.069560  ...   \n",
       "\n",
       "       Shimmer(dB)  Shimmer:APQ3  Shimmer:APQ5  Shimmer:APQ11  Shimmer:DDA   \n",
       "count  5875.000000   5875.000000   5875.000000    5875.000000  5875.000000  \\\n",
       "mean      0.310960      0.017156      0.020144       0.027481     0.051467   \n",
       "std       0.230254      0.013237      0.016664       0.019986     0.039711   \n",
       "min       0.026000      0.001610      0.001940       0.002490     0.004840   \n",
       "25%       0.175000      0.009280      0.010790       0.015665     0.027830   \n",
       "50%       0.253000      0.013700      0.015940       0.022710     0.041110   \n",
       "75%       0.365000      0.020575      0.023755       0.032715     0.061735   \n",
       "max       2.107000      0.162670      0.167020       0.275460     0.488020   \n",
       "\n",
       "               NHR          HNR         RPDE          DFA          PPE  \n",
       "count  5875.000000  5875.000000  5875.000000  5875.000000  5875.000000  \n",
       "mean      0.032120    21.679495     0.541473     0.653240     0.219589  \n",
       "std       0.059692     4.291096     0.100986     0.070902     0.091498  \n",
       "min       0.000286     1.659000     0.151020     0.514040     0.021983  \n",
       "25%       0.010955    19.406000     0.469785     0.596180     0.156340  \n",
       "50%       0.018448    21.920000     0.542250     0.643600     0.205500  \n",
       "75%       0.031463    24.444000     0.614045     0.711335     0.264490  \n",
       "max       0.748260    37.875000     0.966080     0.865600     0.731730  \n",
       "\n",
       "[8 rows x 22 columns]"
      ]
     },
     "execution_count": 50,
     "metadata": {},
     "output_type": "execute_result"
    }
   ],
   "source": [
    "import os\n",
    "import pandas as pd\n",
    "import sklearn.metrics\n",
    "from sklearn import linear_model, tree, neural_network\n",
    "from sklearn.model_selection import train_test_split, cross_val_score\n",
    "from sklearn.metrics import mean_absolute_error\n",
    "import matplotlib.pyplot as plt\n",
    "\n",
    "# Question 1 - Import and Exploratory\n",
    "path = 'D:\\\\Documents\\\\DAAN862'\n",
    "os.chdir(path)\n",
    "pkdis = pd.read_csv('Parkinsons-Disease-Prediction-raw_dataset.csv')\n",
    "\n",
    "pkdis.describe()"
   ]
  },
  {
   "cell_type": "code",
   "execution_count": 51,
   "id": "2098c617",
   "metadata": {},
   "outputs": [
    {
     "name": "stdout",
     "output_type": "stream",
     "text": [
      "subject#         0.253643\n",
      "age              0.310290\n",
      "sex             -0.096559\n",
      "test_time        0.075263\n",
      "total_UPDRS      1.000000\n",
      "Jitter(%)        0.074247\n",
      "Jitter(Abs)      0.066927\n",
      "Jitter:RAP       0.064015\n",
      "Jitter:PPQ5      0.063352\n",
      "Jitter:DDP       0.064027\n",
      "Shimmer          0.092141\n",
      "Shimmer(dB)      0.098790\n",
      "Shimmer:APQ3     0.079363\n",
      "Shimmer:APQ5     0.083467\n",
      "Shimmer:APQ11    0.120838\n",
      "Shimmer:DDA      0.079363\n",
      "NHR              0.060952\n",
      "HNR             -0.162117\n",
      "RPDE             0.156897\n",
      "DFA             -0.113475\n",
      "PPE              0.156195\n",
      "dtype: float64\n"
     ]
    }
   ],
   "source": [
    "# Question 1 Cont - Drop 'motor_UPDRS'\n",
    "# Commenting out just to not repeat when not needed\n",
    "#pkdis =  pkdis.drop(['motor_UPDRS'], axis=1)\n",
    "\n",
    "# Determine cor values in order o start linear regression while minimizing colinearity\n",
    "pk_cor = pkdis.corrwith(pkdis.total_UPDRS)\n",
    "print(pk_cor)"
   ]
  },
  {
   "cell_type": "code",
   "execution_count": 5,
   "id": "887d3ba3",
   "metadata": {},
   "outputs": [
    {
     "data": {
      "text/plain": [
       "array([-10.20027154, -10.11509346,  -4.06489379,  -7.14983745,\n",
       "        -9.48070711,  -9.27846107,  -7.61314438,  -7.82232471,\n",
       "       -13.06497054,  -8.12757482])"
      ]
     },
     "metadata": {},
     "output_type": "display_data"
    },
    {
     "data": {
      "text/plain": [
       "count    10.000000\n",
       "mean     -8.691728\n",
       "std       2.366811\n",
       "min     -13.064971\n",
       "25%      -9.956497\n",
       "50%      -8.703018\n",
       "75%      -7.665439\n",
       "max      -4.064894\n",
       "dtype: float64"
      ]
     },
     "metadata": {},
     "output_type": "display_data"
    }
   ],
   "source": [
    "# Question 2 - Build Linear Regression and use Cross Validate\n",
    "X = pkdis[['subject#', 'age', 'test_time', 'Jitter(%)', \n",
    "           'Shimmer:APQ11', 'NHR', 'HNR', 'RPDE', 'DFA', 'PPE']]\n",
    "y = pkdis['total_UPDRS']\n",
    "\n",
    "#X_train, X_test, y_train, y_test = train_test_split(X, y, test_size=0.3, random_state=123)\n",
    "\n",
    "lr = linear_model.LinearRegression()\n",
    "#lr.fit(X_train, y_train)\n",
    "accuracies = cross_val_score(lr, X, y, cv=10, scoring='neg_mean_absolute_error')\n",
    "\n",
    "# Display accuracies and get average performance for LR\n",
    "display(accuracies)\n",
    "display(pd.Series(accuracies).describe())"
   ]
  },
  {
   "cell_type": "code",
   "execution_count": 6,
   "id": "d9b78326",
   "metadata": {},
   "outputs": [
    {
     "data": {
      "text/plain": [
       "array([-12.90845408, -11.5512415 , -12.94040986,  -7.22597789,\n",
       "        -9.52775714,  -6.61619659, -10.40549915, -13.38689421,\n",
       "       -11.06825383, -12.37578535])"
      ]
     },
     "metadata": {},
     "output_type": "display_data"
    },
    {
     "data": {
      "text/plain": [
       "count    10.000000\n",
       "mean    -10.800647\n",
       "std       2.377918\n",
       "min     -13.386894\n",
       "25%     -12.775287\n",
       "50%     -11.309748\n",
       "75%      -9.747193\n",
       "max      -6.616197\n",
       "dtype: float64"
      ]
     },
     "metadata": {},
     "output_type": "display_data"
    }
   ],
   "source": [
    "# Question 3 - Build Decision Tree Model and use Cross Validate\n",
    "X_full = pkdis.drop(['total_UPDRS'], axis=1)\n",
    "\n",
    "dt = tree.DecisionTreeRegressor()\n",
    "accuracies = cross_val_score(dt, X_full, y, cv=10, scoring='neg_mean_absolute_error')\n",
    "\n",
    "# Get k-fold scores for overall performance\n",
    "display(accuracies)\n",
    "display(pd.Series(accuracies).describe())"
   ]
  },
  {
   "cell_type": "code",
   "execution_count": 56,
   "id": "24678556",
   "metadata": {},
   "outputs": [
    {
     "data": {
      "text/plain": [
       "array([-0.31054856, -0.22722455, -0.07878046, -0.07738875, -0.16652134,\n",
       "       -0.2345488 , -0.18786882, -0.20063932, -0.2791131 , -0.25904509])"
      ]
     },
     "metadata": {},
     "output_type": "display_data"
    },
    {
     "data": {
      "text/plain": [
       "count    10.000000\n",
       "mean     -0.202168\n",
       "std       0.078067\n",
       "min      -0.310549\n",
       "25%      -0.252921\n",
       "50%      -0.213932\n",
       "75%      -0.171858\n",
       "max      -0.077389\n",
       "dtype: float64"
      ]
     },
     "metadata": {},
     "output_type": "display_data"
    }
   ],
   "source": [
    "# Question 4 - Build Neural Network Model with Cross Validate\n",
    "from sklearn.preprocessing import MinMaxScaler\n",
    "import numpy as np\n",
    "\n",
    "scaler = MinMaxScaler()\n",
    "scaler.fit(pkdis)\n",
    "pkdis_scaled = scaler.transform(pkdis)\n",
    "y_scaled = pkdis_scaled[:, 4]\n",
    "X_full_scaled = np.delete(pkdis_scaled, 4, axis=1)\n",
    "\n",
    "nn = neural_network.MLPRegressor(max_iter=1000)\n",
    "\n",
    "accuracies = cross_val_score(nn, X_full_scaled, y_scaled, cv=10, scoring='neg_mean_absolute_error')\n",
    "\n",
    "# Get accuracies for folds\n",
    "display(accuracies)\n",
    "display(pd.Series(accuracies).describe())"
   ]
  },
  {
   "cell_type": "code",
   "execution_count": 57,
   "id": "98b77dc1",
   "metadata": {},
   "outputs": [
    {
     "data": {
      "text/plain": [
       "array([-0.29445497, -0.20668533, -0.30329054, -0.20793764, -0.09180472,\n",
       "       -0.09679195, -0.08631599, -0.08813779, -0.19461427, -0.13520725,\n",
       "       -0.11594261, -0.27622115, -0.12439786, -0.18316096, -0.25669235,\n",
       "       -0.14377325, -0.31582845, -0.29715004, -0.40446659, -0.14387837])"
      ]
     },
     "metadata": {},
     "output_type": "display_data"
    },
    {
     "data": {
      "text/plain": [
       "count    20.000000\n",
       "mean     -0.198338\n",
       "std       0.093112\n",
       "min      -0.404467\n",
       "25%      -0.280780\n",
       "50%      -0.188888\n",
       "75%      -0.122284\n",
       "max      -0.086316\n",
       "dtype: float64"
      ]
     },
     "metadata": {},
     "output_type": "display_data"
    }
   ],
   "source": [
    "# Question 5 - Which model performed best?\n",
    "# From the above results with neg MAE, we can see the Neural Network\n",
    "# performed the best (higher negative MAE is better)\n",
    "# In order to improve the model, we could reduce the number of attributes used in\n",
    "# the model and/or increase the k-fold numbers.\n",
    "\n",
    "accuracies = cross_val_score(nn, X_full_scaled, y_scaled, cv=20, scoring='neg_mean_absolute_error')\n",
    "\n",
    "# Display accuracies and get average performance for LR\n",
    "display(accuracies)\n",
    "display(pd.Series(accuracies).describe())\n",
    "\n",
    "# As shown, the improvement in the neg MAE metric was minimal but does allow\n",
    "# for some room or improvement, further analysis could be used to remove more unrelated attributes"
   ]
  },
  {
   "cell_type": "code",
   "execution_count": 69,
   "id": "458dc80f",
   "metadata": {},
   "outputs": [
    {
     "data": {
      "text/plain": [
       "array([-0.26895451, -0.22059859, -0.31113023, -0.11531042, -0.20897136,\n",
       "       -0.16994465, -0.1260313 , -0.30020651, -0.23053278, -0.15243185])"
      ]
     },
     "metadata": {},
     "output_type": "display_data"
    },
    {
     "data": {
      "text/plain": [
       "count    10.000000\n",
       "mean     -0.210411\n",
       "std       0.069369\n",
       "min      -0.311130\n",
       "25%      -0.259349\n",
       "50%      -0.214785\n",
       "75%      -0.156810\n",
       "max      -0.115310\n",
       "dtype: float64"
      ]
     },
     "metadata": {},
     "output_type": "display_data"
    }
   ],
   "source": [
    "# Question 6 - Improve Neural Network or Decision Tree model\n",
    "# We will implement the model optimization of Lesson 9 for Decision Tree\n",
    "\n",
    "# We can also scale the values for the x and y for the decision tree too, which would \n",
    "# have a great impact on optimization\n",
    "\n",
    "tree_opt_1 = tree.DecisionTreeRegressor(random_state=39)\n",
    "accuracies = cross_val_score(tree_opt_1, X_full_scaled, y_scaled, cv=10, scoring='neg_mean_absolute_error')\n",
    "\n",
    "# Get k-fold scores for overall performance\n",
    "display(accuracies)\n",
    "display(pd.Series(accuracies).describe())\n",
    "\n",
    "# As shown, scaling values for this example helped a lot too and increased the negative MAE significantly"
   ]
  },
  {
   "cell_type": "code",
   "execution_count": null,
   "id": "f9d65b90",
   "metadata": {},
   "outputs": [],
   "source": []
  }
 ],
 "metadata": {
  "kernelspec": {
   "display_name": "Python 3 (ipykernel)",
   "language": "python",
   "name": "python3"
  },
  "language_info": {
   "codemirror_mode": {
    "name": "ipython",
    "version": 3
   },
   "file_extension": ".py",
   "mimetype": "text/x-python",
   "name": "python",
   "nbconvert_exporter": "python",
   "pygments_lexer": "ipython3",
   "version": "3.10.2"
  }
 },
 "nbformat": 4,
 "nbformat_minor": 5
}
